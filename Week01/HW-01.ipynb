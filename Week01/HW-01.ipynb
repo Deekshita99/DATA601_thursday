{
 "cells": [
  {
   "cell_type": "markdown",
   "metadata": {
    "id": "hl3pVnDDs6Se"
   },
   "source": [
    "# Rules\n",
    "\n",
    "- We will grade only the answer cells, so make sure that you type your answer inside of the answer cell. \n",
    "\n",
    "- Make sure that your code is working when you restart the kernel. Notebooks are great tools for exploration but we should be very careful as we are writing codes. For more, please check: [Why notebooks suck](https://towardsdatascience.com/5-reasons-why-jupyter-notebooks-suck-4dc201e27086)\n",
    "\n",
    "- Make sure that your results are in the correct format. If we ask you to return a list, your answer should be in a list format. If the question asks you to return a scalar (float, int, etc.) then make sure that your answer is in the correct format.\n",
    "\n",
    "## Homework\n",
    "\n",
    "1. Correct the formatting of markdown cells\n",
    "    * Use appropriate headers\n",
    "1. Finish the coding sections."
   ]
  },
  {
   "cell_type": "markdown",
   "metadata": {
    "id": "Tur9zoV6qB4I"
   },
   "source": [
    "Question-1\n",
    "\n",
    "Write a Python function to return a **list** of all the numbers from 1 to n which are divisible by 5. `n` will be given as an argument to your function.\n"
   ]
  },
  {
   "cell_type": "code",
   "execution_count": 2,
   "metadata": {
    "id": "bBH79NeVs1m1"
   },
   "outputs": [
    {
     "data": {
      "text/plain": [
       "[5,\n",
       " 10,\n",
       " 15,\n",
       " 20,\n",
       " 25,\n",
       " 30,\n",
       " 35,\n",
       " 40,\n",
       " 45,\n",
       " 50,\n",
       " 55,\n",
       " 60,\n",
       " 65,\n",
       " 70,\n",
       " 75,\n",
       " 80,\n",
       " 85,\n",
       " 90,\n",
       " 95,\n",
       " 100,\n",
       " 105,\n",
       " 110,\n",
       " 115,\n",
       " 120]"
      ]
     },
     "execution_count": 2,
     "metadata": {},
     "output_type": "execute_result"
    }
   ],
   "source": [
    "# Your Answer Cell\n",
    "# you can edit the function below. \n",
    "# Don't change function name and parameter names.\n",
    "# you can define new variables (if needed) inside of the function.\n",
    "\n",
    "def get_numbers_divisible_by_five(given_number):\n",
    "    list=[]\n",
    "    for i in range(1,given_number):\n",
    "        if(i%5==0):\n",
    "            list.append(i)\n",
    "            \n",
    "    return list\n",
    "\n",
    "get_numbers_divisible_by_five(121)"
   ]
  },
  {
   "cell_type": "markdown",
   "metadata": {
    "id": "9DpQ6X0io0If"
   },
   "source": [
    "Question-2\n",
    "\n",
    "Write a function that returns the sum of the parameters\n"
   ]
  },
  {
   "cell_type": "code",
   "execution_count": 3,
   "metadata": {
    "id": "rmYpunGwp-bq"
   },
   "outputs": [
    {
     "data": {
      "text/plain": [
       "8"
      ]
     },
     "execution_count": 3,
     "metadata": {},
     "output_type": "execute_result"
    }
   ],
   "source": [
    "# Your Answer Cell\n",
    "# you can edit the function below. \n",
    "# Don't change function name and parameter names.\n",
    "# you can define new variables inside of the function.\n",
    "\n",
    "def my_function(a, b):\n",
    "\n",
    "    return (a+b)\n",
    "\n",
    "\n",
    "## your answer above\n",
    "\n",
    "my_function(3, 5)"
   ]
  },
  {
   "cell_type": "markdown",
   "metadata": {
    "id": "inGr4AOovJhj"
   },
   "source": [
    "Question-3 (Shell & Magic Commands)\n"
   ]
  },
  {
   "cell_type": "markdown",
   "metadata": {
    "id": "54izIMcAwgud"
   },
   "source": [
    "Question-3-a\n",
    "\n",
    "Below print current working directory."
   ]
  },
  {
   "cell_type": "code",
   "execution_count": 18,
   "metadata": {
    "id": "0O27azQfvZjv"
   },
   "outputs": [
    {
     "data": {
      "text/plain": [
       "'C:\\\\Users\\\\Admin'"
      ]
     },
     "execution_count": 18,
     "metadata": {},
     "output_type": "execute_result"
    }
   ],
   "source": [
    "## Answer Cell\n",
    "%pwd\n",
    "\n"
   ]
  },
  {
   "cell_type": "markdown",
   "metadata": {
    "id": "lDzXCiGnvbMO"
   },
   "source": [
    "Question-3-b\n",
    "\n",
    "Below list all the files and folders in the current working directory."
   ]
  },
  {
   "cell_type": "code",
   "execution_count": 21,
   "metadata": {
    "id": "SHnZDzFZwUeB"
   },
   "outputs": [
    {
     "name": "stdout",
     "output_type": "stream",
     "text": [
      " Volume in drive C has no label.\n",
      " Volume Serial Number is BC65-00BD\n",
      "\n",
      " Directory of C:\\Users\\Admin\n",
      "\n",
      "06-02-2022  17:09    <DIR>          .\n",
      "06-02-2022  17:09    <DIR>          ..\n",
      "18-02-2021  13:39    <DIR>          .android\n",
      "08-08-2019  11:19    <DIR>          .AndroidStudio3.4\n",
      "06-11-2021  18:42               673 .bash_history\n",
      "02-05-2021  23:47    <DIR>          .conda\n",
      "12-10-2019  00:14    <DIR>          .eclipse\n",
      "06-02-2022  16:46               184 .gitconfig\n",
      "03-10-2019  08:35    <DIR>          .gradle\n",
      "06-02-2022  16:37    <DIR>          .ipynb_checkpoints\n",
      "02-05-2021  23:18    <DIR>          .ipython\n",
      "03-05-2021  00:07    <DIR>          .jupyter\n",
      "03-05-2021  00:47    <DIR>          .keras\n",
      "02-05-2021  23:18    <DIR>          .matplotlib\n",
      "21-10-2019  01:40    <DIR>          .oracle_jre_usage\n",
      "06-08-2020  00:43    <DIR>          .p2\n",
      "03-05-2021  00:25                21 .python_history\n",
      "03-05-2021  03:08    <DIR>          .spyder-py3\n",
      "17-08-2020  06:55    <DIR>          .swt\n",
      "12-10-2019  01:13    <DIR>          .tooling\n",
      "16-01-2021  22:39    <DIR>          .VirtualBox\n",
      "29-03-2020  11:10    <DIR>          .vscode\n",
      "20-09-2020  01:03    <DIR>          .zenmap\n",
      "13-11-2020  06:09                 0 0){\n",
      "07-03-2021  15:00    <DIR>          3D Objects\n",
      "20-11-2020  23:18    <DIR>          aishwarya\n",
      "06-02-2022  09:11    <DIR>          anaconda3\n",
      "03-10-2019  08:35    <DIR>          AndroidStudioProjects\n",
      "13-11-2020  06:18             1,860 BinarySearchTree.class\n",
      "13-11-2020  06:18             1,587 bstprogram.java\n",
      "13-11-2020  02:51    <DIR>          charan\n",
      "07-03-2021  15:00    <DIR>          Contacts\n",
      "19-03-2020  03:07            85,504 CT Record part 2.doc\n",
      "28-12-2020  00:46    <DIR>          Documents\n",
      "06-02-2022  16:44    <DIR>          Downloads\n",
      "12-10-2019  04:59    <DIR>          eclipse-workspace\n",
      "13-11-2020  05:19    <DIR>          external\n",
      "07-03-2021  15:00    <DIR>          Favorites\n",
      "06-02-2022  17:09             9,820 HW-01.ipynb\n",
      "25-10-2020  21:20    <DIR>          IBA_IOAPDATA\n",
      "03-05-2021  00:47    <DIR>          Jedi\n",
      "13-11-2020  05:19    <DIR>          lab\n",
      "07-03-2021  15:00    <DIR>          Links\n",
      "07-03-2021  15:00    <DIR>          Music\n",
      "06-02-2022  17:02                31 my_script.py\n",
      "06-02-2022  09:09    <DIR>          OneDrive\n",
      "28-12-2020  00:46    <DIR>          Pictures\n",
      "13-11-2020  03:40                 0 program.java\n",
      "09-09-2021  01:46    <DIR>          PycharmProjects\n",
      "13-11-2020  05:19    <DIR>          sai\n",
      "07-03-2021  15:00    <DIR>          Saved Games\n",
      "07-03-2021  15:00    <DIR>          Searches\n",
      "05-08-2020  08:02               420 This PC - Shortcut.lnk\n",
      "13-11-2020  06:18               552 TreeNode.class\n",
      "06-02-2022  16:39               652 Untitled.ipynb\n",
      "07-03-2021  15:00    <DIR>          Videos\n",
      "05-09-2020  08:55    <DIR>          VirtualBox VMs\n",
      "25-07-2020  03:42    <DIR>          wekafiles\n",
      "              13 File(s)        101,304 bytes\n",
      "              45 Dir(s)  28,851,716,096 bytes free\n"
     ]
    }
   ],
   "source": [
    "## Answer Cell\n",
    "%ls\n"
   ]
  },
  {
   "cell_type": "markdown",
   "metadata": {
    "id": "OZPKFtqX1Wev"
   },
   "source": [
    "Question-3-c\n",
    "\n",
    "Create 'my_script.py' that prints 'Your First Name-Your Last Name' in the same directory and run this scripy in the cell below."
   ]
  },
  {
   "cell_type": "code",
   "execution_count": 16,
   "metadata": {
    "id": "n7i7G_YE1qi0"
   },
   "outputs": [
    {
     "name": "stdout",
     "output_type": "stream",
     "text": [
      "Deekshitha-Pasupula\n"
     ]
    }
   ],
   "source": [
    "## Answer Cell\n",
    "%echo print(\"Deekshitha-Pasupula\") >my_script.py\n",
    "!python my_script.py\n",
    "\n"
   ]
  },
  {
   "cell_type": "code",
   "execution_count": null,
   "metadata": {},
   "outputs": [],
   "source": []
  }
 ],
 "metadata": {
  "colab": {
   "collapsed_sections": [],
   "name": "HW-1.ipynb",
   "provenance": []
  },
  "kernelspec": {
   "display_name": "Python 3",
   "language": "python",
   "name": "python3"
  },
  "language_info": {
   "codemirror_mode": {
    "name": "ipython",
    "version": 3
   },
   "file_extension": ".py",
   "mimetype": "text/x-python",
   "name": "python",
   "nbconvert_exporter": "python",
   "pygments_lexer": "ipython3",
   "version": "3.8.5"
  },
  "toc": {
   "base_numbering": 1,
   "nav_menu": {},
   "number_sections": false,
   "sideBar": true,
   "skip_h1_title": false,
   "title_cell": "Table of Contents",
   "title_sidebar": "Contents",
   "toc_cell": false,
   "toc_position": {},
   "toc_section_display": true,
   "toc_window_display": true
  }
 },
 "nbformat": 4,
 "nbformat_minor": 1
}
