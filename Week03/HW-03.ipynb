{
 "cells": [
  {
   "cell_type": "markdown",
   "metadata": {},
   "source": [
    "# Homework 3"
   ]
  },
  {
   "cell_type": "code",
   "execution_count": 1,
   "metadata": {},
   "outputs": [],
   "source": [
    "## dont touch this cell and assertions after the questions\n",
    "score = {}\n",
    "\n",
    "equality_check = lambda a, b: len(a) == len(b) and all([ x==y for x,y in zip(a,b)])\n",
    "def assertion(question, result, expected):\n",
    "    same = False\n",
    "    try:\n",
    "        if type(result) in (int, str, bool, type(None)):\n",
    "            same = result == expected\n",
    "        else:\n",
    "            same = equality_check(result, expected)\n",
    "    except:\n",
    "        pass\n",
    "    \n",
    "    if question != None and same:\n",
    "        score[question] = True\n",
    "        \n",
    "    print('correct' if same else 'incorrect')"
   ]
  },
  {
   "cell_type": "markdown",
   "metadata": {},
   "source": [
    "## Tuples"
   ]
  },
  {
   "cell_type": "code",
   "execution_count": 2,
   "metadata": {},
   "outputs": [
    {
     "name": "stdout",
     "output_type": "stream",
     "text": [
      "1\n",
      "2\n"
     ]
    }
   ],
   "source": [
    "# example - not hw\n",
    "def get_dummy_tupple():\n",
    "    \"\"\"\n",
    "    Returns (1,2)\n",
    "    \"\"\"\n",
    "    return (1,2)\n",
    "\n",
    "x, y = get_dummy_tupple()\n",
    "print(x)\n",
    "print(y)"
   ]
  },
  {
   "cell_type": "code",
   "execution_count": 3,
   "metadata": {},
   "outputs": [],
   "source": [
    "state_names = [\"Alaska\", \"Alabama\", \"Arkansas\", \"American Samoa\", \"Arizona\", \"California\", \"Colorado\", \"Connecticut\", \"District \", \"of Columbia\", \"Delaware\", \"Florida\", \"Georgia\", \"Guam\", \"Hawaii\", \"Iowa\", \"Idaho\", \"Illinois\", \"Indiana\", \"Kansas\", \"Kentucky\", \"Louisiana\", \"Massachusetts\", \"Maryland\", \"Maine\", \"Michigan\", \"Minnesota\", \"Missouri\", \"Mississippi\", \"Montana\", \"North Carolina\", \"North Dakota\", \"Nebraska\", \"New Hampshire\", \"New Jersey\", \"New Mexico\", \"Nevada\", \"New York\", \"Ohio\", \"Oklahoma\", \"Oregon\", \"Pennsylvania\", \"Puerto Rico\", \"Rhode Island\", \"South Carolina\", \"South Dakota\", \"Tennessee\", \"Texas\", \"Utah\", \"Virginia\", \"Virgin Islands\", \"Vermont\", \"Washington\", \"Wisconsin\", \"West Virginia\", \"Wyoming\"]\n",
    "\n",
    "us_state_code = {\n",
    "    'Alabama': 'AL',\n",
    "    'Alaska': 'AK',\n",
    "    'American Samoa': 'AS',\n",
    "    'Arizona': 'AZ',\n",
    "    'Arkansas': 'AR',\n",
    "    'California': 'CA',\n",
    "    'Colorado': 'CO',\n",
    "    'Connecticut': 'CT',\n",
    "    'Delaware': 'DE',\n",
    "    'District of Columbia': 'DC',\n",
    "    'Florida': 'FL',\n",
    "    'Georgia': 'GA',\n",
    "    'Guam': 'GU',\n",
    "    'Hawaii': 'HI',\n",
    "    'Idaho': 'ID',\n",
    "    'Illinois': 'IL',\n",
    "    'Indiana': 'IN',\n",
    "    'Iowa': 'IA',\n",
    "    'Kansas': 'KS',\n",
    "    'Kentucky': 'KY',\n",
    "    'Louisiana': 'LA',\n",
    "    'Maine': 'ME',\n",
    "    'Maryland': 'MD',\n",
    "    'Massachusetts': 'MA',\n",
    "    'Michigan': 'MI',\n",
    "    'Minnesota': 'MN',\n",
    "    'Mississippi': 'MS',\n",
    "    'Missouri': 'MO',\n",
    "    'Montana': 'MT',\n",
    "    'Nebraska': 'NE',\n",
    "    'Nevada': 'NV',\n",
    "    'New Hampshire': 'NH',\n",
    "    'New Jersey': 'NJ',\n",
    "    'New Mexico': 'NM',\n",
    "    'New York': 'NY',\n",
    "    'North Carolina': 'NC',\n",
    "    'North Dakota': 'ND',\n",
    "    'Northern Mariana Islands':'MP',\n",
    "    'Ohio': 'OH',\n",
    "    'Oklahoma': 'OK',\n",
    "    'Oregon': 'OR',\n",
    "    'Pennsylvania': 'PA',\n",
    "    'Puerto Rico': 'PR',\n",
    "    'Rhode Island': 'RI',\n",
    "    'South Carolina': 'SC',\n",
    "    'South Dakota': 'SD',\n",
    "    'Tennessee': 'TN',\n",
    "    'Texas': 'TX',\n",
    "    'Utah': 'UT',\n",
    "    'Vermont': 'VT',\n",
    "    'Virgin Islands': 'VI',\n",
    "    'Virginia': 'VA',\n",
    "    'Washington': 'WA',\n",
    "    'West Virginia': 'WV',\n",
    "    'Wisconsin': 'WI',\n",
    "    'Wyoming': 'WY'\n",
    "}\n"
   ]
  },
  {
   "cell_type": "code",
   "execution_count": 4,
   "metadata": {},
   "outputs": [],
   "source": [
    "# hw 1\n",
    "def get_state_with_code(state_code):\n",
    "    for state, code in us_state_code.items():\n",
    "        if code == state_code:\n",
    "            return (state,code)   "
   ]
  },
  {
   "cell_type": "code",
   "execution_count": 49,
   "metadata": {},
   "outputs": [
    {
     "name": "stdout",
     "output_type": "stream",
     "text": [
      "correct\n",
      "correct\n"
     ]
    }
   ],
   "source": [
    "# don't change\n",
    "assertion('1a', get_state_with_code('CA'), ('California', 'CA'))\n",
    "assertion('1b', get_state_with_code('MD'), ('Maryland', 'MD'))"
   ]
  },
  {
   "cell_type": "code",
   "execution_count": 50,
   "metadata": {},
   "outputs": [],
   "source": [
    "# hw 2\n",
    "import random\n",
    "def get_random_calculation_values():\n",
    "    \"\"\"\n",
    "    returns 2 random values and a random operator (+, -)\n",
    "    eg:\n",
    "    (10, 20, '+')\n",
    "    \"\"\"\n",
    "    operator=[\"+\",\"-\"]\n",
    "    number1=random.randint(1,10)\n",
    "    number2=random.randint(1,10)\n",
    "    op=random.choice(operator)\n",
    "    \n",
    "    return (number1, number2 ,op) # example\n",
    "\n",
    "# hw 3\n",
    "def get_correct_answer(number1, number2, operation):\n",
    "    operator_functions = {\n",
    "    '+': lambda a, b: a + b, \n",
    "    '-': lambda a, b: a - b,\n",
    "    }\n",
    "    value = operator_functions[operation](number1,number2)\n",
    "    \n",
    "    return value "
   ]
  },
  {
   "cell_type": "code",
   "execution_count": 51,
   "metadata": {},
   "outputs": [
    {
     "name": "stdout",
     "output_type": "stream",
     "text": [
      "9 - 7 = ? 2\n",
      "correct\n"
     ]
    }
   ],
   "source": [
    "# fix: get_correct_answer and run this\n",
    "# Homework 1 - just run - no need to change anything here\n",
    "def game():\n",
    "    number1, number2, operator = get_random_calculation_values()\n",
    "    correct_answer = get_correct_answer(number1, number2, operator)\n",
    "\n",
    "    while(True):\n",
    "        question = f'{number1} {operator} {number2} = ? '\n",
    "        answer = input(question)\n",
    "        if int(answer) == correct_answer:\n",
    "            print('correct')\n",
    "            break\n",
    "        else:\n",
    "            print('incorrect')\n",
    "    \n",
    "game()"
   ]
  },
  {
   "cell_type": "code",
   "execution_count": null,
   "metadata": {},
   "outputs": [],
   "source": []
  },
  {
   "cell_type": "markdown",
   "metadata": {},
   "source": [
    "## List"
   ]
  },
  {
   "cell_type": "code",
   "execution_count": 52,
   "metadata": {},
   "outputs": [],
   "source": [
    "# hw 4\n",
    "def array_length(arr):\n",
    "    l=len(arr)\n",
    "    return len(arr)\n"
   ]
  },
  {
   "cell_type": "code",
   "execution_count": 53,
   "metadata": {},
   "outputs": [
    {
     "name": "stdout",
     "output_type": "stream",
     "text": [
      "correct\n",
      "correct\n",
      "correct\n",
      "correct\n"
     ]
    }
   ],
   "source": [
    "# don't change\n",
    "assertion('4a', array_length([]), 0)\n",
    "assertion('4b', array_length([1]),1)\n",
    "assertion('4c', array_length([1,2]), 2)\n",
    "assertion('4d', array_length([1,2,3]), 3)"
   ]
  },
  {
   "cell_type": "code",
   "execution_count": 54,
   "metadata": {},
   "outputs": [],
   "source": [
    "# hw 5\n",
    "def get_odd_numbers(arr):\n",
    "    odd=[]\n",
    "    for i in range(0,len(arr)):\n",
    "         if arr[i]%2!=0:\n",
    "            odd.append(arr[i])\n",
    "    return odd"
   ]
  },
  {
   "cell_type": "code",
   "execution_count": 55,
   "metadata": {},
   "outputs": [
    {
     "name": "stdout",
     "output_type": "stream",
     "text": [
      "correct\n",
      "correct\n",
      "correct\n"
     ]
    }
   ],
   "source": [
    "# don't change\n",
    "assertion('5a', get_odd_numbers([11,2,5,5,3,1]), [11,5,5,3,1])\n",
    "assertion('5b', get_odd_numbers([8,1,2,5,5,3,1]), [1,5,5,3,1])\n",
    "assertion('5c', get_odd_numbers([3,2,1,0,9,9]), [3,1,9,9])"
   ]
  },
  {
   "cell_type": "code",
   "execution_count": 56,
   "metadata": {},
   "outputs": [],
   "source": [
    "# hw 6\n",
    "def check_if_two_arrays_equal(arr1, arr2):\n",
    "    arr1.sort()\n",
    "    arr2.sort()\n",
    "    if(len(arr1)!=len(arr2)):\n",
    "        return False\n",
    "    elif(arr1==arr2):\n",
    "        return True\n",
    "    return False"
   ]
  },
  {
   "cell_type": "code",
   "execution_count": 57,
   "metadata": {},
   "outputs": [
    {
     "name": "stdout",
     "output_type": "stream",
     "text": [
      "correct\n",
      "correct\n",
      "correct\n",
      "correct\n",
      "correct\n"
     ]
    }
   ],
   "source": [
    "# don't change\n",
    "assertion('6a', check_if_two_arrays_equal([1,2,5,6], [1,2,5,6]), True)\n",
    "assertion('6b', check_if_two_arrays_equal([1,2,6], [1,2,5]), False)\n",
    "assertion('6c', check_if_two_arrays_equal([1,2,5,9,0,0], [1,2,5,9,0,0]), True)\n",
    "assertion('6d', check_if_two_arrays_equal([], []), True)\n",
    "assertion('6e', check_if_two_arrays_equal([1], []), False)"
   ]
  },
  {
   "cell_type": "code",
   "execution_count": 58,
   "metadata": {},
   "outputs": [],
   "source": [
    "# hw 7\n",
    "def reverse_array(arr):\n",
    "    arr.reverse()\n",
    "    return arr"
   ]
  },
  {
   "cell_type": "code",
   "execution_count": 59,
   "metadata": {},
   "outputs": [
    {
     "name": "stdout",
     "output_type": "stream",
     "text": [
      "correct\n",
      "correct\n",
      "correct\n"
     ]
    }
   ],
   "source": [
    "# don't change\n",
    "assertion('7a', reverse_array([1,2,3]), [3,2,1])\n",
    "assertion('7b', reverse_array(['a','b']), ['b','a'])\n",
    "assertion('7c', reverse_array(['a']), ['a'])"
   ]
  },
  {
   "cell_type": "code",
   "execution_count": null,
   "metadata": {},
   "outputs": [],
   "source": []
  },
  {
   "cell_type": "code",
   "execution_count": 60,
   "metadata": {},
   "outputs": [],
   "source": [
    "# hw 8\n",
    "def get_states_starts_with(letter):\n",
    "    l=[]\n",
    "    for i in state_names:\n",
    "        if i.startswith(letter) or i.startswith(letter.swapcase()):\n",
    "            l.append(i)\n",
    "    return l        \n",
    "    pass\n",
    " "
   ]
  },
  {
   "cell_type": "code",
   "execution_count": 61,
   "metadata": {},
   "outputs": [
    {
     "name": "stdout",
     "output_type": "stream",
     "text": [
      "correct\n",
      "correct\n"
     ]
    }
   ],
   "source": [
    "# don't change\n",
    "assertion('8a', get_states_starts_with('a'), ['Alaska', 'Alabama', 'Arkansas', 'American Samoa', 'Arizona'])\n",
    "assertion('8b', get_states_starts_with('m'), ['Massachusetts', 'Maryland', 'Maine', 'Michigan', 'Minnesota', 'Missouri', 'Mississippi','Montana'])"
   ]
  },
  {
   "cell_type": "code",
   "execution_count": 62,
   "metadata": {},
   "outputs": [],
   "source": [
    "# hw 9\n",
    "def get_state_code_for(state):\n",
    "    \"\"\"\n",
    "    return state code\n",
    "    'Maryland' => 'MD'\n",
    "    'Wisconsin' => 'WI'\n",
    "    'LalaLala' => None\n",
    "    \"\"\"\n",
    "    for s in us_state_code:\n",
    "        if s == state:\n",
    "            return us_state_code[s]\n",
    "    return None\n",
    "    pass\n"
   ]
  },
  {
   "cell_type": "code",
   "execution_count": 63,
   "metadata": {},
   "outputs": [
    {
     "name": "stdout",
     "output_type": "stream",
     "text": [
      "correct\n",
      "correct\n",
      "correct\n"
     ]
    }
   ],
   "source": [
    "# don't change\n",
    "assertion('9a', get_state_code_for('Maryland'), \"MD\")\n",
    "assertion('9b', get_state_code_for('Hogwarts'), None)\n",
    "assertion('9c', get_state_code_for('Alaska'), 'AK')"
   ]
  },
  {
   "cell_type": "markdown",
   "metadata": {},
   "source": [
    "## Functions\n",
    "\n",
    "### Lambda"
   ]
  },
  {
   "cell_type": "code",
   "execution_count": 64,
   "metadata": {},
   "outputs": [
    {
     "data": {
      "text/plain": [
       "False"
      ]
     },
     "execution_count": 64,
     "metadata": {},
     "output_type": "execute_result"
    }
   ],
   "source": [
    "# Note: you can use if-else in a single line\n",
    "import random\n",
    "\n",
    "True if random.randint(0,1) == 0 else False"
   ]
  },
  {
   "cell_type": "code",
   "execution_count": 65,
   "metadata": {},
   "outputs": [
    {
     "data": {
      "text/plain": [
       "'negative'"
      ]
     },
     "execution_count": 65,
     "metadata": {},
     "output_type": "execute_result"
    }
   ],
   "source": [
    "'positive' if random.randint(-10, 10) > 0 else 'negative' "
   ]
  },
  {
   "cell_type": "code",
   "execution_count": 66,
   "metadata": {},
   "outputs": [
    {
     "name": "stdout",
     "output_type": "stream",
     "text": [
      "False\n",
      "True\n"
     ]
    }
   ],
   "source": [
    "# example # it shoud not have return statement\n",
    "check_if_negative = lambda x: True if x < 0 else False\n",
    "\n",
    "print(check_if_negative(10))\n",
    "print(check_if_negative(-10))"
   ]
  },
  {
   "cell_type": "code",
   "execution_count": 67,
   "metadata": {},
   "outputs": [
    {
     "data": {
      "text/plain": [
       "6"
      ]
     },
     "execution_count": 67,
     "metadata": {},
     "output_type": "execute_result"
    }
   ],
   "source": [
    "# hw 10 - write a lambda function to double the value: \n",
    "doubler = lambda x: x*2\n",
    "\n",
    "doubler(3)"
   ]
  },
  {
   "cell_type": "code",
   "execution_count": 68,
   "metadata": {},
   "outputs": [
    {
     "name": "stdout",
     "output_type": "stream",
     "text": [
      "correct\n",
      "correct\n"
     ]
    }
   ],
   "source": [
    "# don't change\n",
    "assertion('10a', doubler(3), 6)\n",
    "assertion('10b', doubler(100), 200)"
   ]
  },
  {
   "cell_type": "code",
   "execution_count": 69,
   "metadata": {},
   "outputs": [],
   "source": [
    "# hw 11 - write a lambda function that return True if text has a word\n",
    "has_word = lambda text, word: True if word.lower() in text.lower() else False\n"
   ]
  },
  {
   "cell_type": "code",
   "execution_count": 70,
   "metadata": {},
   "outputs": [
    {
     "name": "stdout",
     "output_type": "stream",
     "text": [
      "correct\n",
      "correct\n",
      "correct\n"
     ]
    }
   ],
   "source": [
    "# don't change\n",
    "assertion('11a', has_word('you will make so much money $$$', '$$'), True)\n",
    "assertion('11b', has_word('spams may have certain words', 'SPAM'), True)\n",
    "assertion('11c', has_word('he is a senior citizen', 'old'), False)"
   ]
  },
  {
   "cell_type": "code",
   "execution_count": 92,
   "metadata": {},
   "outputs": [],
   "source": [
    "# hw 12\n",
    "import datetime\n",
    "\n",
    "def get_age(birth_year):\n",
    "    \"\"\"\n",
    "    returns the age based on current year (don't hardcode the current year)\n",
    "    \"\"\"\n",
    "    d=datetime.datetime.now().year\n",
    "    age=d-birth_year\n",
    "    return age\n"
   ]
  },
  {
   "cell_type": "code",
   "execution_count": 93,
   "metadata": {},
   "outputs": [
    {
     "name": "stdout",
     "output_type": "stream",
     "text": [
      "correct\n",
      "correct\n",
      "correct\n"
     ]
    }
   ],
   "source": [
    "# don't change\n",
    "assertion('12a', get_age(1950), 72)\n",
    "assertion('12b', get_age(1990), 32)\n",
    "assertion('12c', get_age(2020), 2)"
   ]
  },
  {
   "cell_type": "code",
   "execution_count": 90,
   "metadata": {},
   "outputs": [],
   "source": [
    "# hw 13\n",
    "import re\n",
    "\n",
    "def has_ssn(text):\n",
    "    \"\"\"\n",
    "    check if the text contains SSN (social security number) XXX-XX-XXXX\n",
    "    (use regular expressions)\n",
    "    \"\"\"\n",
    "    if re.search(\"\\d{3}-\\d{2}-\\d{4}\",text):\n",
    "        return True\n",
    "    else:\n",
    "        return False"
   ]
  },
  {
   "cell_type": "code",
   "execution_count": 91,
   "metadata": {},
   "outputs": [
    {
     "name": "stdout",
     "output_type": "stream",
     "text": [
      "correct\n",
      "correct\n",
      "correct\n",
      "correct\n"
     ]
    }
   ],
   "source": [
    "# don't change\n",
    "assertion('13a', has_ssn('my ssn is 123-12-1234.'), True)\n",
    "assertion('13b', has_ssn('my phone number is 443-312-1234.'), False)\n",
    "assertion('13c', has_ssn('143-12-1234 is for this patient'), True)\n",
    "assertion('13d', has_ssn('the id is 143-12-123.'), False)\n"
   ]
  },
  {
   "cell_type": "code",
   "execution_count": 75,
   "metadata": {},
   "outputs": [],
   "source": [
    "# don't change this block. \n",
    "def select_states(selector_func):\n",
    "    \"\"\"\n",
    "    selects states based on the function\n",
    "        selector_func: takes a state name and return true or false\n",
    "        \n",
    "    returns array\n",
    "    \"\"\"\n",
    "    # return [state for state in state_names if selector_func(state)] # this will give the same output\n",
    "    \n",
    "    result = []\n",
    "    for state in state_names:\n",
    "        if selector_func(state):\n",
    "            result.append(state)\n",
    "    \n",
    "    return result"
   ]
  },
  {
   "cell_type": "code",
   "execution_count": 76,
   "metadata": {},
   "outputs": [
    {
     "data": {
      "text/plain": [
       "['Idaho', 'Maine', 'Texas']"
      ]
     },
     "execution_count": 76,
     "metadata": {},
     "output_type": "execute_result"
    }
   ],
   "source": [
    "# example: takes a string and returns a boolean\n",
    "def five_letter(word):\n",
    "    if len(word) == 5:\n",
    "        return True\n",
    "    else:\n",
    "        return False\n",
    "    \n",
    "select_states(five_letter)"
   ]
  },
  {
   "cell_type": "code",
   "execution_count": 77,
   "metadata": {},
   "outputs": [],
   "source": [
    "# hw 14\n",
    "# write a function that checks if state name is more than one word (should return only True/False)\n",
    "\n",
    "def is_two_words(word):\n",
    "    if word.count(' ')>=1:\n",
    "        return True\n",
    "    return False"
   ]
  },
  {
   "cell_type": "code",
   "execution_count": 78,
   "metadata": {},
   "outputs": [
    {
     "name": "stdout",
     "output_type": "stream",
     "text": [
      "correct\n"
     ]
    }
   ],
   "source": [
    " assertion('14', select_states(is_two_words), ['American Samoa',\n",
    " 'District ',\n",
    " 'of Columbia',\n",
    " 'North Carolina',\n",
    " 'North Dakota',\n",
    " 'New Hampshire',\n",
    " 'New Jersey',\n",
    " 'New Mexico',\n",
    " 'New York',\n",
    " 'Puerto Rico',\n",
    " 'Rhode Island',\n",
    " 'South Carolina',\n",
    " 'South Dakota',\n",
    " 'Virgin Islands',\n",
    " 'West Virginia'])"
   ]
  },
  {
   "cell_type": "code",
   "execution_count": 79,
   "metadata": {},
   "outputs": [
    {
     "data": {
      "text/plain": [
       "['California',\n",
       " 'Hawaii',\n",
       " 'Kansas',\n",
       " 'Massachusetts',\n",
       " 'Maryland',\n",
       " 'Maine',\n",
       " 'Washington']"
      ]
     },
     "execution_count": 79,
     "metadata": {},
     "output_type": "execute_result"
    }
   ],
   "source": [
    "# hw 15\n",
    "# write a function that checks if the second letter is 'a' and returns True/False\n",
    "# pass that function to select_states function\n",
    "\n",
    "def is_second_letter_a(word):\n",
    "    if word[1]=='a':\n",
    "        return True\n",
    "    return False\n",
    "\n",
    "select_states(is_second_letter_a)"
   ]
  },
  {
   "cell_type": "code",
   "execution_count": 80,
   "metadata": {},
   "outputs": [
    {
     "name": "stdout",
     "output_type": "stream",
     "text": [
      "correct\n"
     ]
    }
   ],
   "source": [
    " assertion('15a', select_states(is_second_letter_a), ['California',\n",
    " 'Hawaii',\n",
    " 'Kansas',\n",
    " 'Massachusetts',\n",
    " 'Maryland',\n",
    " 'Maine',\n",
    " 'Washington'])"
   ]
  },
  {
   "cell_type": "code",
   "execution_count": 81,
   "metadata": {},
   "outputs": [
    {
     "data": {
      "text/plain": [
       "['Kansas', 'Kentucky', 'Louisiana']"
      ]
     },
     "execution_count": 81,
     "metadata": {},
     "output_type": "execute_result"
    }
   ],
   "source": [
    "# hw 16\n",
    "# write a function that checks if the word is alfabetically in between K-M and returns True/False\n",
    "# pass that function to select_states function\n",
    "\n",
    "def in_between_K_M(word):\n",
    "    l=[]\n",
    "    if word.startswith(\"K\") or word.startswith(\"L\"):\n",
    "        l.append(word)\n",
    "    return l       \n",
    "\n",
    "select_states(in_between_K_M)"
   ]
  },
  {
   "cell_type": "code",
   "execution_count": 82,
   "metadata": {},
   "outputs": [
    {
     "name": "stdout",
     "output_type": "stream",
     "text": [
      "correct\n",
      "correct\n"
     ]
    }
   ],
   "source": [
    " assertion('16a', select_states(is_second_letter_a), ['California',\n",
    " 'Hawaii',\n",
    " 'Kansas',\n",
    " 'Massachusetts',\n",
    " 'Maryland',\n",
    " 'Maine',\n",
    " 'Washington'])\n",
    "\n",
    "assertion('16b', select_states(in_between_K_M), ['Kansas', 'Kentucky', 'Louisiana'])"
   ]
  },
  {
   "cell_type": "code",
   "execution_count": 83,
   "metadata": {},
   "outputs": [
    {
     "data": {
      "text/plain": [
       "['Alaska',\n",
       " 'Alabama',\n",
       " 'Arkansas',\n",
       " 'American Samoa',\n",
       " 'Arizona',\n",
       " 'Iowa',\n",
       " 'Idaho',\n",
       " 'Illinois',\n",
       " 'Indiana',\n",
       " 'Ohio',\n",
       " 'Oklahoma',\n",
       " 'Oregon',\n",
       " 'Utah']"
      ]
     },
     "execution_count": 83,
     "metadata": {},
     "output_type": "execute_result"
    }
   ],
   "source": [
    "# write an interesting function and pass it into select_states function (should return only True/False)\n",
    "def interesting_func(state):\n",
    "    l=['A','E','I','O','U']\n",
    "    vowels=[]\n",
    "    if state.startswith(tuple(l)):\n",
    "        vowels.append(state)\n",
    "    return vowels\n",
    "    #returns a list of state names which starts with vowels\n",
    "select_states(interesting_func) "
   ]
  },
  {
   "cell_type": "code",
   "execution_count": 84,
   "metadata": {},
   "outputs": [
    {
     "name": "stdout",
     "output_type": "stream",
     "text": [
      "correct\n"
     ]
    }
   ],
   "source": [
    "# hw 17 - write an assertion (replace ?? with the expected result)\n",
    "\n",
    "assertion('17a', select_states(interesting_func), ['Alaska',\n",
    " 'Alabama',\n",
    " 'Arkansas',\n",
    " 'American Samoa',\n",
    " 'Arizona',\n",
    " 'Iowa',\n",
    " 'Idaho',\n",
    " 'Illinois',\n",
    " 'Indiana',\n",
    " 'Ohio',\n",
    " 'Oklahoma',\n",
    " 'Oregon',\n",
    " 'Utah'])"
   ]
  },
  {
   "cell_type": "markdown",
   "metadata": {},
   "source": [
    "# Score "
   ]
  },
  {
   "cell_type": "code",
   "execution_count": 94,
   "metadata": {},
   "outputs": [
    {
     "data": {
      "text/plain": [
       "'39/36'"
      ]
     },
     "execution_count": 94,
     "metadata": {},
     "output_type": "execute_result"
    }
   ],
   "source": [
    "f'{sum(score.values())}/36'"
   ]
  },
  {
   "cell_type": "code",
   "execution_count": null,
   "metadata": {},
   "outputs": [],
   "source": []
  }
 ],
 "metadata": {
  "kernelspec": {
   "display_name": "Python 3",
   "language": "python",
   "name": "python3"
  },
  "language_info": {
   "codemirror_mode": {
    "name": "ipython",
    "version": 3
   },
   "file_extension": ".py",
   "mimetype": "text/x-python",
   "name": "python",
   "nbconvert_exporter": "python",
   "pygments_lexer": "ipython3",
   "version": "3.8.5"
  },
  "toc": {
   "base_numbering": 1,
   "nav_menu": {},
   "number_sections": false,
   "sideBar": true,
   "skip_h1_title": false,
   "title_cell": "Table of Contents",
   "title_sidebar": "Contents",
   "toc_cell": false,
   "toc_position": {},
   "toc_section_display": true,
   "toc_window_display": false
  },
  "varInspector": {
   "cols": {
    "lenName": 16,
    "lenType": 16,
    "lenVar": 40
   },
   "kernels_config": {
    "python": {
     "delete_cmd_postfix": "",
     "delete_cmd_prefix": "del ",
     "library": "var_list.py",
     "varRefreshCmd": "print(var_dic_list())"
    },
    "r": {
     "delete_cmd_postfix": ") ",
     "delete_cmd_prefix": "rm(",
     "library": "var_list.r",
     "varRefreshCmd": "cat(var_dic_list()) "
    }
   },
   "types_to_exclude": [
    "module",
    "function",
    "builtin_function_or_method",
    "instance",
    "_Feature"
   ],
   "window_display": false
  }
 },
 "nbformat": 4,
 "nbformat_minor": 2
}
