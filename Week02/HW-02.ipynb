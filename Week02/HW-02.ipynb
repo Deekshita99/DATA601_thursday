{
 "cells": [
  {
   "cell_type": "markdown",
   "metadata": {},
   "source": [
    "## Homework 2\n",
    "\n",
    "Please complete the functions below. These functions are for to simulate a fair and a biased die. \n",
    "\n",
    "The biased die has probabilities {0.20, 0.10, 0.15, 0.15, 0.15, 0.25}.\n",
    "\n",
    "Create 2 visualizations that shows outcomes of multiple rolls of a fair die and biased die. \n",
    "* Visualization for fair die\n",
    "* Visualization for biased die\n",
    "\n",
    "Repeat the process programatically and take the mean to create a new list. This list will be used to compare means of biased & unbiased dice. \n",
    "* Create a historgram showing means of biased & unbiased die\n",
    "\n",
    "* Use subcharts\n",
    "* All visualizations must have appropriate titles.\n",
    "* There are 3 visualization and expected format is \n",
    "```\n",
    " [V1] [V2]\n",
    " [   V3  ]\n",
    " ```"
   ]
  },
  {
   "cell_type": "code",
   "execution_count": 47,
   "metadata": {},
   "outputs": [],
   "source": [
    "import random \n",
    "import matplotlib.pyplot as plt\n",
    "import numpy as np\n",
    "from random import choices\n",
    "\n",
    "trial_count = 500\n",
    "fair_simulation=[]\n",
    "fair_mean=[0,0,0,0,0,0]\n",
    "fairvalue=0\n",
    "biased_simulation=[]\n",
    "biasedvalue=0\n",
    "biased_mean=[0,0,0,0,0,0]\n",
    "options=[1,2,3,4,5,6]\n",
    "\n",
    "def fair_die_simulation(trials):\n",
    "    for i in range(trial_count):\n",
    "        fairvalue=random.choice([1,2,3,4,5,6])\n",
    "        fair_simulation.append(fairvalue)\n",
    "        fair_mean[fairvalue-1]=fair_mean[fairvalue-1]+1\n",
    "    return fair_simulation"
   ]
  },
  {
   "cell_type": "code",
   "execution_count": 48,
   "metadata": {},
   "outputs": [],
   "source": [
    "def biased_die_simulations(trials, weights=[0.25, 0.15, 0.15, 0.15, 0.15, 0.15]):\n",
    "    for i in range(trial_count):\n",
    "        biasedvalue=random.choices(options,weights)\n",
    "        biased_simulation.append(biasedvalue)\n",
    "        m=biasedvalue[0]\n",
    "        biased_mean[m-1]=biased_mean[m-1]+1\n",
    "    return biased_simulation"
   ]
  },
  {
   "cell_type": "code",
   "execution_count": 49,
   "metadata": {},
   "outputs": [
    {
     "data": {
      "text/plain": [
       "<BarContainer object of 6 artists>"
      ]
     },
     "execution_count": 49,
     "metadata": {},
     "output_type": "execute_result"
    },
    {
     "data": {
      "image/png": "[encoded data removed]",
      "text/plain": [
       "<Figure size 432x288 with 2 Axes>"
      ]
     },
     "metadata": {
      "needs_background": "light"
     },
     "output_type": "display_data"
    },
    {
     "data": {
      "image/png": "[encoded data removed]",
      "text/plain": [
       "<Figure size 432x288 with 1 Axes>"
      ]
     },
     "metadata": {
      "needs_background": "light"
     },
     "output_type": "display_data"
    }
   ],
   "source": [
    "biased=biased_die_simulations(trial_count)\n",
    "fair=fair_die_simulation(trial_count)\n",
    "\n",
    "plot=plt.subplot(1,2,1)\n",
    "plot.set_title(\"FAIR V1\")\n",
    "plot.set_xlabel(\"Outcomes of the die\")\n",
    "plot.set_ylabel(\"Count\")\n",
    "plot.bar(options,fair_mean)\n",
    "\n",
    "plot=plt.subplot(1,2,2)\n",
    "plot.set_title(\"Biased V2\")\n",
    "plot.set_xlabel(\"Outcomes of the die\")\n",
    "plot.set_ylabel(\"Count\")\n",
    "plot.bar(options,biased_mean)\n",
    "\n",
    "x_axis=np.arange(6)\n",
    "fig,ax=plt.subplots()\n",
    "ax.set_title(\"Comparision V3\")\n",
    "ax.set_xlabel(\"Outcomes of the die\")\n",
    "ax.set_ylabel(\"Count\")\n",
    "ax.bar(x_axis-0.2,fair_mean,0.4,label='Fair')\n",
    "ax.bar(x_axis+0.2,biased_mean,0.4,label='Biased')\n",
    "\n",
    "\n"
   ]
  },
  {
   "cell_type": "code",
   "execution_count": null,
   "metadata": {},
   "outputs": [],
   "source": []
  },
  {
   "cell_type": "code",
   "execution_count": null,
   "metadata": {},
   "outputs": [],
   "source": []
  },
  {
   "cell_type": "code",
   "execution_count": null,
   "metadata": {},
   "outputs": [],
   "source": []
  },
  {
   "cell_type": "code",
   "execution_count": null,
   "metadata": {},
   "outputs": [],
   "source": []
  },
  {
   "cell_type": "code",
   "execution_count": null,
   "metadata": {},
   "outputs": [],
   "source": []
  }
 ],
 "metadata": {
  "kernelspec": {
   "display_name": "Python 3",
   "language": "python",
   "name": "python3"
  },
  "language_info": {
   "codemirror_mode": {
    "name": "ipython",
    "version": 3
   },
   "file_extension": ".py",
   "mimetype": "text/x-python",
   "name": "python",
   "nbconvert_exporter": "python",
   "pygments_lexer": "ipython3",
   "version": "3.8.5"
  },
  "toc": {
   "base_numbering": 1,
   "nav_menu": {},
   "number_sections": true,
   "sideBar": true,
   "skip_h1_title": false,
   "title_cell": "Table of Contents",
   "title_sidebar": "Contents",
   "toc_cell": false,
   "toc_position": {},
   "toc_section_display": true,
   "toc_window_display": false
  }
 },
 "nbformat": 4,
 "nbformat_minor": 5
}
